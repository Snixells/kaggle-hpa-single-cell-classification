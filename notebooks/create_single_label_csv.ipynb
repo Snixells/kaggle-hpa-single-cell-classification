{
 "metadata": {
  "language_info": {
   "codemirror_mode": {
    "name": "ipython",
    "version": 3
   },
   "file_extension": ".py",
   "mimetype": "text/x-python",
   "name": "python",
   "nbconvert_exporter": "python",
   "pygments_lexer": "ipython3",
   "version": "3.8.0-final"
  },
  "orig_nbformat": 2,
  "kernelspec": {
   "name": "python3",
   "display_name": "Python 3.8.0 64-bit ('tf_gpu': conda)",
   "metadata": {
    "interpreter": {
     "hash": "476994e1e32b3c97062228c12c317fe97f95b2b4ef7152b2a37686f25e56c46b"
    }
   }
  }
 },
 "nbformat": 4,
 "nbformat_minor": 2,
 "cells": [
  {
   "cell_type": "code",
   "execution_count": 1,
   "metadata": {},
   "outputs": [],
   "source": [
    "import pandas as pd"
   ]
  },
  {
   "cell_type": "code",
   "execution_count": 5,
   "metadata": {},
   "outputs": [
    {
     "output_type": "stream",
     "name": "stdout",
     "text": [
      "                                     ID  Label\n0  5c27f04c-bb99-11e8-b2b9-ac1f6b6435d0  8|5|0\n1  5fb643ee-bb99-11e8-b2b9-ac1f6b6435d0   14|0\n2  60b57878-bb99-11e8-b2b9-ac1f6b6435d0    6|1\n3  5c1a898e-bb99-11e8-b2b9-ac1f6b6435d0  16|10\n4  5b931256-bb99-11e8-b2b9-ac1f6b6435d0   14|0\n21806\n"
     ]
    }
   ],
   "source": [
    "labels = pd.read_csv('../data/train.csv')\n",
    "print(labels.head())\n",
    "print(len(labels))"
   ]
  },
  {
   "cell_type": "code",
   "execution_count": 3,
   "metadata": {},
   "outputs": [],
   "source": [
    "new_labels = []\n",
    "\n",
    "for label in labels.iterrows():\n",
    "    img_id = label[1][0]\n",
    "    single_labels = label[1][1]\n",
    "    labels_seperated = single_labels.split('|')\n",
    "    for single_label in labels_seperated:\n",
    "        new_label = [img_id, single_label]\n",
    "        new_labels.append(new_label)"
   ]
  },
  {
   "cell_type": "code",
   "execution_count": 4,
   "metadata": {},
   "outputs": [
    {
     "output_type": "stream",
     "name": "stdout",
     "text": [
      "35869\n"
     ]
    }
   ],
   "source": [
    "print(len(new_labels))"
   ]
  },
  {
   "cell_type": "code",
   "execution_count": 6,
   "metadata": {},
   "outputs": [
    {
     "output_type": "error",
     "ename": "AttributeError",
     "evalue": "'list' object has no attribute 'to_frame'",
     "traceback": [
      "\u001b[1;31m---------------------------------------------------------------------------\u001b[0m",
      "\u001b[1;31mAttributeError\u001b[0m                            Traceback (most recent call last)",
      "\u001b[1;32m<ipython-input-6-e24604058343>\u001b[0m in \u001b[0;36m<module>\u001b[1;34m\u001b[0m\n\u001b[1;32m----> 1\u001b[1;33m \u001b[0mpd\u001b[0m\u001b[1;33m.\u001b[0m\u001b[0mDataFrame\u001b[0m\u001b[1;33m.\u001b[0m\u001b[0mto_csv\u001b[0m\u001b[1;33m(\u001b[0m\u001b[0mnew_labels\u001b[0m\u001b[1;33m,\u001b[0m \u001b[1;34m'../data/train_single.csv'\u001b[0m\u001b[1;33m)\u001b[0m\u001b[1;33m\u001b[0m\u001b[1;33m\u001b[0m\u001b[0m\n\u001b[0m",
      "\u001b[1;32m~\\anaconda3\\envs\\tf_gpu\\lib\\site-packages\\pandas\\core\\generic.py\u001b[0m in \u001b[0;36mto_csv\u001b[1;34m(self, path_or_buf, sep, na_rep, float_format, columns, header, index, index_label, mode, encoding, compression, quoting, quotechar, line_terminator, chunksize, date_format, doublequote, escapechar, decimal, errors, storage_options)\u001b[0m\n\u001b[0;32m   3373\u001b[0m         ...           compression=compression_opts)  # doctest: +SKIP\n\u001b[0;32m   3374\u001b[0m         \"\"\"\n\u001b[1;32m-> 3375\u001b[1;33m         \u001b[0mdf\u001b[0m \u001b[1;33m=\u001b[0m \u001b[0mself\u001b[0m \u001b[1;32mif\u001b[0m \u001b[0misinstance\u001b[0m\u001b[1;33m(\u001b[0m\u001b[0mself\u001b[0m\u001b[1;33m,\u001b[0m \u001b[0mABCDataFrame\u001b[0m\u001b[1;33m)\u001b[0m \u001b[1;32melse\u001b[0m \u001b[0mself\u001b[0m\u001b[1;33m.\u001b[0m\u001b[0mto_frame\u001b[0m\u001b[1;33m(\u001b[0m\u001b[1;33m)\u001b[0m\u001b[1;33m\u001b[0m\u001b[1;33m\u001b[0m\u001b[0m\n\u001b[0m\u001b[0;32m   3376\u001b[0m \u001b[1;33m\u001b[0m\u001b[0m\n\u001b[0;32m   3377\u001b[0m         formatter = DataFrameFormatter(\n",
      "\u001b[1;31mAttributeError\u001b[0m: 'list' object has no attribute 'to_frame'"
     ]
    }
   ],
   "source": [
    "pd.DataFrame.to_csv(new_labels, '../data/train_single.csv')\n",
    "\n",
    "with open(\"../data/train_single.csv\", \"w\", newline=\"\") as f:\n",
    "    writer = csv.writer(f)\n",
    "    writer.writerows()"
   ]
  },
  {
   "cell_type": "code",
   "execution_count": null,
   "metadata": {},
   "outputs": [],
   "source": []
  }
 ]
}