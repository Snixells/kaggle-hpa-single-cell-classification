{
 "metadata": {
  "language_info": {
   "codemirror_mode": {
    "name": "ipython",
    "version": 3
   },
   "file_extension": ".py",
   "mimetype": "text/x-python",
   "name": "python",
   "nbconvert_exporter": "python",
   "pygments_lexer": "ipython3",
   "version": "3.8.0-final"
  },
  "orig_nbformat": 2,
  "kernelspec": {
   "name": "python3",
   "display_name": "Python 3.8.0 64-bit ('tf_gpu': conda)",
   "metadata": {
    "interpreter": {
     "hash": "476994e1e32b3c97062228c12c317fe97f95b2b4ef7152b2a37686f25e56c46b"
    }
   }
  }
 },
 "nbformat": 4,
 "nbformat_minor": 2,
 "cells": [
  {
   "cell_type": "code",
   "execution_count": 14,
   "metadata": {},
   "outputs": [],
   "source": [
    "import pandas as pd\n",
    "import csv"
   ]
  },
  {
   "cell_type": "code",
   "execution_count": 15,
   "metadata": {},
   "outputs": [
    {
     "output_type": "stream",
     "name": "stdout",
     "text": [
      "                                     ID  Label\n0  5c27f04c-bb99-11e8-b2b9-ac1f6b6435d0  8|5|0\n1  5fb643ee-bb99-11e8-b2b9-ac1f6b6435d0   14|0\n2  60b57878-bb99-11e8-b2b9-ac1f6b6435d0    6|1\n3  5c1a898e-bb99-11e8-b2b9-ac1f6b6435d0  16|10\n4  5b931256-bb99-11e8-b2b9-ac1f6b6435d0   14|0\n21806\n"
     ]
    }
   ],
   "source": [
    "labels = pd.read_csv('../data/train.csv')\n",
    "print(labels.head())\n",
    "print(len(labels))"
   ]
  },
  {
   "cell_type": "code",
   "execution_count": 16,
   "metadata": {},
   "outputs": [],
   "source": [
    "new_labels = []\n",
    "\n",
    "for label in labels.iterrows():\n",
    "    img_id = label[1][0]\n",
    "    single_labels = label[1][1]\n",
    "    labels_seperated = single_labels.split('|')\n",
    "    for single_label in labels_seperated:\n",
    "        new_label = [img_id, single_label]\n",
    "        new_labels.append(new_label)"
   ]
  },
  {
   "cell_type": "code",
   "execution_count": 17,
   "metadata": {},
   "outputs": [],
   "source": [
    "new_labels_with_colors = []\n",
    "colors = [\"blue\", \"green\", \"red\", \"yellow\"]\n",
    "\n",
    "for label in new_labels:\n",
    "    anno_class = label[1]\n",
    "    img_name = label[0]\n",
    "    for color in colors:\n",
    "        img_name_color = img_name + '_' + color\n",
    "        new_label = [img_name_color, anno_class]\n",
    "        new_labels_with_colors.append(new_label)"
   ]
  },
  {
   "cell_type": "code",
   "execution_count": 18,
   "metadata": {},
   "outputs": [
    {
     "output_type": "stream",
     "name": "stdout",
     "text": [
      "143476\n['5c27f04c-bb99-11e8-b2b9-ac1f6b6435d0_blue', '8']\n"
     ]
    }
   ],
   "source": [
    "print(len(new_labels_with_colors))\n",
    "print(new_labels_with_colors[0])"
   ]
  },
  {
   "cell_type": "code",
   "execution_count": null,
   "metadata": {},
   "outputs": [],
   "source": []
  },
  {
   "cell_type": "code",
   "execution_count": 19,
   "metadata": {},
   "outputs": [
    {
     "output_type": "stream",
     "name": "stdout",
     "text": [
      "                                             0  1\n0    5c27f04c-bb99-11e8-b2b9-ac1f6b6435d0_blue  8\n1   5c27f04c-bb99-11e8-b2b9-ac1f6b6435d0_green  8\n2     5c27f04c-bb99-11e8-b2b9-ac1f6b6435d0_red  8\n3  5c27f04c-bb99-11e8-b2b9-ac1f6b6435d0_yellow  8\n4    5c27f04c-bb99-11e8-b2b9-ac1f6b6435d0_blue  5\n"
     ]
    }
   ],
   "source": [
    "new_labels_with_colors = pd.DataFrame(new_labels_with_colors, index=False)\n",
    "print(new_labels_with_colors.head())\n",
    "#pd.DataFrame.to_csv(new_labels_with_colors, '../data/train_single.csv')"
   ]
  },
  {
   "cell_type": "code",
   "execution_count": null,
   "metadata": {},
   "outputs": [],
   "source": []
  }
 ]
}