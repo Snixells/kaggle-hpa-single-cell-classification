{
 "metadata": {
  "language_info": {
   "codemirror_mode": {
    "name": "ipython",
    "version": 3
   },
   "file_extension": ".py",
   "mimetype": "text/x-python",
   "name": "python",
   "nbconvert_exporter": "python",
   "pygments_lexer": "ipython3",
   "version": "3.8.0-final"
  },
  "orig_nbformat": 2,
  "kernelspec": {
   "name": "python3",
   "display_name": "Python 3.8.0 64-bit ('tf_gpu': conda)",
   "metadata": {
    "interpreter": {
     "hash": "476994e1e32b3c97062228c12c317fe97f95b2b4ef7152b2a37686f25e56c46b"
    }
   }
  }
 },
 "nbformat": 4,
 "nbformat_minor": 2,
 "cells": [
  {
   "cell_type": "code",
   "execution_count": 3,
   "metadata": {},
   "outputs": [],
   "source": [
    "import glob\n",
    "\n",
    "import pandas as pd\n",
    "import matplotlib.pyplot as plt\n",
    "from tqdm import tqdm"
   ]
  },
  {
   "cell_type": "code",
   "execution_count": 4,
   "metadata": {},
   "outputs": [],
   "source": [
    "TRAIN_IMG_DIR = '../data/train/'\n",
    "DATA_DIR = '../data/'"
   ]
  },
  {
   "cell_type": "code",
   "execution_count": 5,
   "metadata": {},
   "outputs": [],
   "source": [
    "image_paths = glob.glob(TRAIN_IMG_DIR + '*.png')"
   ]
  },
  {
   "cell_type": "code",
   "execution_count": 6,
   "metadata": {},
   "outputs": [
    {
     "output_type": "stream",
     "name": "stdout",
     "text": [
      "87224\n"
     ]
    }
   ],
   "source": [
    "print(len(image_paths))"
   ]
  },
  {
   "cell_type": "code",
   "execution_count": 7,
   "metadata": {},
   "outputs": [
    {
     "output_type": "stream",
     "name": "stdout",
     "text": [
      "                                     ID  Label\n0  5c27f04c-bb99-11e8-b2b9-ac1f6b6435d0  8|5|0\n1  5fb643ee-bb99-11e8-b2b9-ac1f6b6435d0   14|0\n2  60b57878-bb99-11e8-b2b9-ac1f6b6435d0    6|1\n3  5c1a898e-bb99-11e8-b2b9-ac1f6b6435d0  16|10\n4  5b931256-bb99-11e8-b2b9-ac1f6b6435d0   14|0\n"
     ]
    }
   ],
   "source": [
    "train_labels = pd.read_csv(DATA_DIR + 'train.csv')\n",
    "print(train_labels.head())"
   ]
  },
  {
   "cell_type": "code",
   "execution_count": 8,
   "metadata": {},
   "outputs": [
    {
     "output_type": "stream",
     "name": "stdout",
     "text": [
      "8|5|0\n"
     ]
    }
   ],
   "source": [
    "print(train_labels.iloc[0]['Label'])"
   ]
  },
  {
   "cell_type": "code",
   "execution_count": 9,
   "metadata": {},
   "outputs": [
    {
     "output_type": "stream",
     "name": "stderr",
     "text": [
      "21806it [00:01, 13629.78it/s]\n"
     ]
    }
   ],
   "source": [
    "different_labels = {'8|5|0'}\n",
    "list_of_labels = []\n",
    "for label in tqdm(train_labels.iterrows()):\n",
    "    list_of_labels.append(label[1]['Label'])\n",
    "    different_labels.add(label[1]['Label'])"
   ]
  },
  {
   "cell_type": "code",
   "execution_count": 10,
   "metadata": {},
   "outputs": [
    {
     "output_type": "stream",
     "name": "stdout",
     "text": [
      "['8|5|0', '14|0', '6|1', '16|10', '14|0', '0', '14', '13|0', '12|0', '14', '0', '3', '7|2', '9', '5', '12', '6', '3', '13', '9|16|0|13', '14|2', '0', '15|0', '2', '14', '13', '1|0', '8', '9|0', '16|0', '3', '2|13', '14|4', '3', '4', '8', '16|0', '13', '10', '6', '5', '16|13', '16', '9|13', '5', '12|0', '7', '8|0', '12|8|4', '12|0', '16|2|0|13', '13|13', '12', '5|0', '16|0|13', '12', '0', '16|0', '9', '16', '14', '3', '0', '10', '4', '16|0', '16', '8', '3', '8|1|0', '10', '13', '8|0', '9|0', '3|0', '0', '9|0', '0', '2|0', '0', '16|1|0', '0', '0', '16|4', '0', '14', '16|4', '3', '4|13', '16', '0', '16|7', '4', '5', '16', '16|0', '16|13', '2|0', '0', '7']\n"
     ]
    }
   ],
   "source": [
    "print(list_of_labels[:100])"
   ]
  },
  {
   "cell_type": "code",
   "execution_count": 12,
   "metadata": {},
   "outputs": [],
   "source": [
    "occurences = [[x,list_of_labels.count(x)] for x in set(list_of_labels)]\n",
    "sorted_occ = sorted(occurences,key=lambda l:l[1], reverse=True)"
   ]
  },
  {
   "cell_type": "code",
   "execution_count": 13,
   "metadata": {},
   "outputs": [
    {
     "output_type": "error",
     "ename": "TypeError",
     "evalue": "bar() missing 1 required positional argument: 'height'",
     "traceback": [
      "\u001b[1;31m---------------------------------------------------------------------------\u001b[0m",
      "\u001b[1;31mTypeError\u001b[0m                                 Traceback (most recent call last)",
      "\u001b[1;32m<ipython-input-13-ad76e8e49bb6>\u001b[0m in \u001b[0;36m<module>\u001b[1;34m\u001b[0m\n\u001b[1;32m----> 1\u001b[1;33m \u001b[0mplt\u001b[0m\u001b[1;33m.\u001b[0m\u001b[0mbar\u001b[0m\u001b[1;33m(\u001b[0m\u001b[0msorted\u001b[0m\u001b[1;33m)\u001b[0m\u001b[1;33m\u001b[0m\u001b[1;33m\u001b[0m\u001b[0m\n\u001b[0m",
      "\u001b[1;31mTypeError\u001b[0m: bar() missing 1 required positional argument: 'height'"
     ]
    }
   ],
   "source": [
    "plt.bar(sorted)"
   ]
  },
  {
   "cell_type": "code",
   "execution_count": null,
   "metadata": {},
   "outputs": [],
   "source": []
  }
 ]
}