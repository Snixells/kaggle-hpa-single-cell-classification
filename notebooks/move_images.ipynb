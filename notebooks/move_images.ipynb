{
 "metadata": {
  "language_info": {
   "codemirror_mode": {
    "name": "ipython",
    "version": 3
   },
   "file_extension": ".py",
   "mimetype": "text/x-python",
   "name": "python",
   "nbconvert_exporter": "python",
   "pygments_lexer": "ipython3",
   "version": "3.8.0-final"
  },
  "orig_nbformat": 2,
  "kernelspec": {
   "name": "python3",
   "display_name": "Python 3.8.0 64-bit ('tf_gpu': conda)",
   "metadata": {
    "interpreter": {
     "hash": "476994e1e32b3c97062228c12c317fe97f95b2b4ef7152b2a37686f25e56c46b"
    }
   }
  }
 },
 "nbformat": 4,
 "nbformat_minor": 2,
 "cells": [
  {
   "cell_type": "code",
   "execution_count": 1,
   "metadata": {},
   "outputs": [],
   "source": [
    "import pandas as pd"
   ]
  },
  {
   "cell_type": "code",
   "execution_count": 2,
   "metadata": {},
   "outputs": [
    {
     "output_type": "stream",
     "name": "stdout",
     "text": [
      "   5c27f04c-bb99-11e8-b2b9-ac1f6b6435d0   8\n0  5c27f04c-bb99-11e8-b2b9-ac1f6b6435d0   5\n1  5c27f04c-bb99-11e8-b2b9-ac1f6b6435d0   0\n2  5fb643ee-bb99-11e8-b2b9-ac1f6b6435d0  14\n3  5fb643ee-bb99-11e8-b2b9-ac1f6b6435d0   0\n4  60b57878-bb99-11e8-b2b9-ac1f6b6435d0   6\n"
     ]
    }
   ],
   "source": [
    "IMAGE_PATH = '../data/train/'\n",
    "\n",
    "labels = pd.read_csv('../data/train_single.csv')\n",
    "print(labels.head())"
   ]
  },
  {
   "cell_type": "code",
   "execution_count": 7,
   "metadata": {},
   "outputs": [
    {
     "output_type": "stream",
     "name": "stdout",
     "text": [
      "5c27f04c-bb99-11e8-b2b9-ac1f6b6435d0\n5\n"
     ]
    }
   ],
   "source": [
    "for label in labels.iterrows():\n",
    "    img_id = label[1][0]\n",
    "    label_nr = label[1][1]\n",
    "    print(img_id)\n",
    "    print(label_nr)\n",
    "    break"
   ]
  },
  {
   "cell_type": "code",
   "execution_count": null,
   "metadata": {},
   "outputs": [],
   "source": []
  }
 ]
}